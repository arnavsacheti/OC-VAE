{
  "nbformat": 4,
  "nbformat_minor": 0,
  "metadata": {
    "colab": {
      "provenance": [],
      "authorship_tag": "ABX9TyOsSX7thQmaG09gG4uh6Gdy",
      "include_colab_link": true
    },
    "kernelspec": {
      "name": "python3",
      "display_name": "Python 3"
    },
    "language_info": {
      "name": "python"
    },
    "accelerator": "TPU",
    "gpuClass": "standard"
  },
  "cells": [
    {
      "cell_type": "markdown",
      "metadata": {
        "id": "view-in-github",
        "colab_type": "text"
      },
      "source": [
        "<a href=\"https://colab.research.google.com/github/arnavsacheti/OC-VAE/blob/main/OC_FaceDect.ipynb\" target=\"_parent\"><img src=\"https://colab.research.google.com/assets/colab-badge.svg\" alt=\"Open In Colab\"/></a>"
      ]
    },
    {
      "cell_type": "code",
      "execution_count": null,
      "metadata": {
        "id": "8lnKgZ4BirsY"
      },
      "outputs": [],
      "source": [
        "import torch\n",
        "from torch import nn, optim\n",
        "import cv2\n",
        "import matplotlib.pyplot as plt\n",
        "import numpy as np\n"
      ]
    },
    {
      "cell_type": "code",
      "source": [
        "BATCH_SIZE = 128\n",
        "MAX_EPOCHS = 300\n",
        "DATASET_PATH = \"dataset\"\n",
        "IMAGE_PATH = \"dataset/images\"\n",
        "device = torch.device(\"cuda:0\" if torch.cuda.is_available() else \"cpu\")"
      ],
      "metadata": {
        "id": "EZbip_vckGab"
      },
      "execution_count": null,
      "outputs": []
    },
    {
      "cell_type": "code",
      "source": [
        "class modVAE(nn.Module):\n",
        "    def __init__(self):\n",
        "        super(modVAE, self).__init__()\n",
        "\n",
        "        self.conv1 = nn.Conv2d(3, 16, kernel_size=3, stride=1, padding=1, bias=False)\n",
        "        self.bn1 = nn.BatchNorm2d(16)\n",
        "        self.conv2 = nn.Conv2d(16, 32, kernel_size=3, stride=2, padding=1, bias=False)\n",
        "        self.bn2 = nn.BatchNorm2d(32)\n",
        "        self.conv3 = nn.Conv2d(32, 64, kernel_size=3, stride=2, padding=1, bias=False)\n",
        "        self.bn3 = nn.BatchNorm2d(64)\n",
        "        self.conv4 = nn.Conv2d(64, 32, kernel_size=3, stride=2, padding=1, bias=False)\n",
        "        self.bn4 = nn.BatchNorm2d(32)\n",
        "\n",
        "        self.fc1 = nn.Linear(32 * 32 * 32, 1000)\n",
        "        self.fc1_bn = nn.BatchNorm1d(1000)\n",
        "        self.fc2_mean = nn.Linear(1000, 100)\n",
        "        self.fc2_logvar = nn.Linear(1000, 100)\n",
        "\n",
        "        self.fc3 = nn.Linear(100, 1000)\n",
        "        self.fc3_bn = nn.BatchNorm1d(1000)\n",
        "        self.fc4 = nn.Linear(1000, 32 * 32 * 32)\n",
        "        self.fc4_bn = nn.BatchNorm1d(32 * 32 * 32)\n",
        "\n",
        "        self.relu = nn.ReLU()\n",
        "\n",
        "        self.conv5 = nn.ConvTranspose2d(32, 64, kernel_size=3, stride=2, padding=1, output_padding=1, bias=False)\n",
        "        self.bn5 = nn.BatchNorm2d(64)\n",
        "        self.conv6 = nn.ConvTranspose2d(64, 32, kernel_size=3, stride=2, padding=1, output_padding=1, bias=False)\n",
        "        self.bn6 = nn.BatchNorm2d(32)\n",
        "        self.conv7 = nn.ConvTranspose2d(32, 16, kernel_size=3, stride=2, padding=1, output_padding=1, bias=False)\n",
        "        self.bn7 = nn.BatchNorm2d(16)\n",
        "        self.conv8 = nn.ConvTranspose2d(16, 3, kernel_size=3, stride=1, padding=1, bias=False)\n",
        "        \n",
        "    def encode(self, data):\n",
        "        conv1 = self.relu(self.bn1(self.conv1(data)))\n",
        "        conv2 = self.relu(self.bn2(self.conv2(conv1)))\n",
        "        conv3 = self.relu(self.bn3(self.conv3(conv2)))\n",
        "        conv4 = self.relu(self.bn4(self.conv4(conv3)))\n",
        "\n",
        "        fc1 = self.relu(self.fc1_bn(self.fc1(conv4.view(-1, 32 * 32 * 32))))\n",
        "        mean = self.fc2_mean(fc1)\n",
        "        logvar = self.fc2_logvar(fc1)\n",
        "        return mean, logvar\n",
        "    \n",
        "    def reparameterize(self, mean, logvar):\n",
        "        std = 0.5 * torch.exp(logvar)\n",
        "        z = (std.data.new(std.size()).normal_()) * std + mean\n",
        "        return z\n",
        "    \n",
        "    def decode(self, z):\n",
        "        fc3 = self.relu(self.fc3_bn(self.fc3(z)))\n",
        "        fc4 = self.relu(self.fc4_bn(self.fc4(fc3)))\n",
        "        conv5 = self.relu(self.bn5(self.conv5(fc4.view(-1, 32, 32, 32))))\n",
        "        conv6 = self.relu(self.bn6(self.conv6(conv5)))\n",
        "        conv7 = self.relu(self.bn7(self.conv7(conv6)))\n",
        "        conv8 = self.conv8(conv7)\n",
        "        return conv8.view(-1, 3, 256, 256)\n",
        "    \n",
        "    def forward(self, x):\n",
        "        mean, logvar = self.encode(x)\n",
        "        z = self.reparameterize(mean, logvar)\n",
        "        return self.decode(z), mean, logvar\n",
        "\n",
        "def loss_function(recon_x, x, mean, logvar):\n",
        "    mse_loss = nn.MSELoss(reduction=\"sum\")\n",
        "    reconstruction_loss = mse_loss(recon_x, x)\n",
        "    kld_loss = -0.5 * torch.sum(1+logvar-torch.exp(logvar)-mean**2)\n",
        "    return reconstruction_loss + kld_loss"
      ],
      "metadata": {
        "id": "MRfeioClm-Fk"
      },
      "execution_count": null,
      "outputs": []
    },
    {
      "cell_type": "code",
      "source": [
        "train_loader = torch.utils.data.DataLoader(\n",
        "    datasets.ImageFolder(train_root, transform=transform_train),\n",
        "    batch_size=batch_size, shuffle=True,drop_last = True)\n",
        "fakedect = vae().to(device)\n",
        "optimizer = optim.Adam(fakedect.parameters(), lr=1e-3)\n",
        "print(summary(fakedect, (3, 256, 256)))"
      ],
      "metadata": {
        "colab": {
          "base_uri": "https://localhost:8080/",
          "height": 235
        },
        "id": "hwAzqglZ3cF4",
        "outputId": "db21c329-e145-46ad-d7db-16e34cb74aba"
      },
      "execution_count": null,
      "outputs": [
        {
          "output_type": "error",
          "ename": "NameError",
          "evalue": "ignored",
          "traceback": [
            "\u001b[0;31m---------------------------------------------------------------------------\u001b[0m",
            "\u001b[0;31mNameError\u001b[0m                                 Traceback (most recent call last)",
            "\u001b[0;32m<ipython-input-4-a8b62f6ec38d>\u001b[0m in \u001b[0;36m<cell line: 1>\u001b[0;34m()\u001b[0m\n\u001b[1;32m      1\u001b[0m train_loader = torch.utils.data.DataLoader(\n\u001b[0;32m----> 2\u001b[0;31m     \u001b[0mdatasets\u001b[0m\u001b[0;34m.\u001b[0m\u001b[0mImageFolder\u001b[0m\u001b[0;34m(\u001b[0m\u001b[0mtrain_root\u001b[0m\u001b[0;34m,\u001b[0m \u001b[0mtransform\u001b[0m\u001b[0;34m=\u001b[0m\u001b[0mtransform_train\u001b[0m\u001b[0;34m)\u001b[0m\u001b[0;34m,\u001b[0m\u001b[0;34m\u001b[0m\u001b[0;34m\u001b[0m\u001b[0m\n\u001b[0m\u001b[1;32m      3\u001b[0m     batch_size=batch_size, shuffle=True,drop_last = True)\n\u001b[1;32m      4\u001b[0m \u001b[0mfakedect\u001b[0m \u001b[0;34m=\u001b[0m \u001b[0mvae\u001b[0m\u001b[0;34m(\u001b[0m\u001b[0;34m)\u001b[0m\u001b[0;34m.\u001b[0m\u001b[0mto\u001b[0m\u001b[0;34m(\u001b[0m\u001b[0mdevice\u001b[0m\u001b[0;34m)\u001b[0m\u001b[0;34m\u001b[0m\u001b[0;34m\u001b[0m\u001b[0m\n\u001b[1;32m      5\u001b[0m \u001b[0moptimizer\u001b[0m \u001b[0;34m=\u001b[0m \u001b[0moptim\u001b[0m\u001b[0;34m.\u001b[0m\u001b[0mAdam\u001b[0m\u001b[0;34m(\u001b[0m\u001b[0mfakedect\u001b[0m\u001b[0;34m.\u001b[0m\u001b[0mparameters\u001b[0m\u001b[0;34m(\u001b[0m\u001b[0;34m)\u001b[0m\u001b[0;34m,\u001b[0m \u001b[0mlr\u001b[0m\u001b[0;34m=\u001b[0m\u001b[0;36m1e-3\u001b[0m\u001b[0;34m)\u001b[0m\u001b[0;34m\u001b[0m\u001b[0;34m\u001b[0m\u001b[0m\n",
            "\u001b[0;31mNameError\u001b[0m: name 'datasets' is not defined"
          ]
        }
      ]
    }
  ]
}